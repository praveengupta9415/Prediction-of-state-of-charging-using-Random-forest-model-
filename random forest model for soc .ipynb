{
 "cells": [
  {
   "cell_type": "code",
   "execution_count": null,
   "id": "cecf6529",
   "metadata": {},
   "outputs": [],
   "source": []
  },
  {
   "cell_type": "code",
   "execution_count": 77,
   "id": "095a9210",
   "metadata": {},
   "outputs": [],
   "source": [
    "import numpy as np\n",
    "import matplotlib.pyplot as plt\n",
    "import pandas as pd\n",
    "from sklearn.model_selection import train_test_split\n",
    "from sklearn.ensemble import RandomForestRegressor\n",
    "from sklearn.metrics import mean_squared_error, r2_score"
   ]
  },
  {
   "cell_type": "code",
   "execution_count": 78,
   "id": "922c9c7e",
   "metadata": {},
   "outputs": [
    {
     "data": {
      "text/html": [
       "<div>\n",
       "<style scoped>\n",
       "    .dataframe tbody tr th:only-of-type {\n",
       "        vertical-align: middle;\n",
       "    }\n",
       "\n",
       "    .dataframe tbody tr th {\n",
       "        vertical-align: top;\n",
       "    }\n",
       "\n",
       "    .dataframe thead th {\n",
       "        text-align: right;\n",
       "    }\n",
       "</style>\n",
       "<table border=\"1\" class=\"dataframe\">\n",
       "  <thead>\n",
       "    <tr style=\"text-align: right;\">\n",
       "      <th></th>\n",
       "      <th>cycle</th>\n",
       "      <th>ambient_temperature</th>\n",
       "      <th>datetime</th>\n",
       "      <th>capacity</th>\n",
       "      <th>voltage_measured</th>\n",
       "      <th>current_measured</th>\n",
       "      <th>temperature_measured</th>\n",
       "      <th>current_load</th>\n",
       "      <th>voltage_load</th>\n",
       "      <th>time</th>\n",
       "    </tr>\n",
       "  </thead>\n",
       "  <tbody>\n",
       "    <tr>\n",
       "      <th>0</th>\n",
       "      <td>1</td>\n",
       "      <td>24</td>\n",
       "      <td>2008-04-02 15:25:41</td>\n",
       "      <td>2.035338</td>\n",
       "      <td>4.179800</td>\n",
       "      <td>-0.002366</td>\n",
       "      <td>24.277568</td>\n",
       "      <td>-0.0006</td>\n",
       "      <td>0.000</td>\n",
       "      <td>0.000</td>\n",
       "    </tr>\n",
       "    <tr>\n",
       "      <th>1</th>\n",
       "      <td>1</td>\n",
       "      <td>24</td>\n",
       "      <td>2008-04-02 15:25:41</td>\n",
       "      <td>2.035338</td>\n",
       "      <td>4.179823</td>\n",
       "      <td>0.000434</td>\n",
       "      <td>24.277073</td>\n",
       "      <td>-0.0006</td>\n",
       "      <td>4.195</td>\n",
       "      <td>16.781</td>\n",
       "    </tr>\n",
       "    <tr>\n",
       "      <th>2</th>\n",
       "      <td>1</td>\n",
       "      <td>24</td>\n",
       "      <td>2008-04-02 15:25:41</td>\n",
       "      <td>2.035338</td>\n",
       "      <td>3.966528</td>\n",
       "      <td>-2.014242</td>\n",
       "      <td>24.366226</td>\n",
       "      <td>-1.9990</td>\n",
       "      <td>3.070</td>\n",
       "      <td>35.703</td>\n",
       "    </tr>\n",
       "    <tr>\n",
       "      <th>3</th>\n",
       "      <td>1</td>\n",
       "      <td>24</td>\n",
       "      <td>2008-04-02 15:25:41</td>\n",
       "      <td>2.035338</td>\n",
       "      <td>3.945886</td>\n",
       "      <td>-2.008730</td>\n",
       "      <td>24.515123</td>\n",
       "      <td>-1.9990</td>\n",
       "      <td>3.045</td>\n",
       "      <td>53.781</td>\n",
       "    </tr>\n",
       "    <tr>\n",
       "      <th>4</th>\n",
       "      <td>1</td>\n",
       "      <td>24</td>\n",
       "      <td>2008-04-02 15:25:41</td>\n",
       "      <td>2.035338</td>\n",
       "      <td>3.930354</td>\n",
       "      <td>-2.013381</td>\n",
       "      <td>24.676053</td>\n",
       "      <td>-1.9990</td>\n",
       "      <td>3.026</td>\n",
       "      <td>71.922</td>\n",
       "    </tr>\n",
       "    <tr>\n",
       "      <th>5</th>\n",
       "      <td>1</td>\n",
       "      <td>24</td>\n",
       "      <td>2008-04-02 15:25:41</td>\n",
       "      <td>2.035338</td>\n",
       "      <td>3.917440</td>\n",
       "      <td>-2.011192</td>\n",
       "      <td>24.853025</td>\n",
       "      <td>-1.9990</td>\n",
       "      <td>3.011</td>\n",
       "      <td>90.094</td>\n",
       "    </tr>\n",
       "    <tr>\n",
       "      <th>6</th>\n",
       "      <td>1</td>\n",
       "      <td>24</td>\n",
       "      <td>2008-04-02 15:25:41</td>\n",
       "      <td>2.035338</td>\n",
       "      <td>3.906451</td>\n",
       "      <td>-2.010007</td>\n",
       "      <td>25.018929</td>\n",
       "      <td>-1.9990</td>\n",
       "      <td>3.002</td>\n",
       "      <td>108.281</td>\n",
       "    </tr>\n",
       "    <tr>\n",
       "      <th>7</th>\n",
       "      <td>1</td>\n",
       "      <td>24</td>\n",
       "      <td>2008-04-02 15:25:41</td>\n",
       "      <td>2.035338</td>\n",
       "      <td>3.896511</td>\n",
       "      <td>-2.010279</td>\n",
       "      <td>25.204449</td>\n",
       "      <td>-1.9990</td>\n",
       "      <td>2.993</td>\n",
       "      <td>126.453</td>\n",
       "    </tr>\n",
       "    <tr>\n",
       "      <th>8</th>\n",
       "      <td>1</td>\n",
       "      <td>24</td>\n",
       "      <td>2008-04-02 15:25:41</td>\n",
       "      <td>2.035338</td>\n",
       "      <td>3.887994</td>\n",
       "      <td>-2.007998</td>\n",
       "      <td>25.380117</td>\n",
       "      <td>-1.9990</td>\n",
       "      <td>2.985</td>\n",
       "      <td>144.641</td>\n",
       "    </tr>\n",
       "    <tr>\n",
       "      <th>9</th>\n",
       "      <td>1</td>\n",
       "      <td>24</td>\n",
       "      <td>2008-04-02 15:25:41</td>\n",
       "      <td>2.035338</td>\n",
       "      <td>3.880200</td>\n",
       "      <td>-2.012029</td>\n",
       "      <td>25.554437</td>\n",
       "      <td>-1.9990</td>\n",
       "      <td>2.977</td>\n",
       "      <td>162.844</td>\n",
       "    </tr>\n",
       "    <tr>\n",
       "      <th>10</th>\n",
       "      <td>1</td>\n",
       "      <td>24</td>\n",
       "      <td>2008-04-02 15:25:41</td>\n",
       "      <td>2.035338</td>\n",
       "      <td>3.872695</td>\n",
       "      <td>-2.012366</td>\n",
       "      <td>25.732284</td>\n",
       "      <td>-1.9990</td>\n",
       "      <td>2.972</td>\n",
       "      <td>181.016</td>\n",
       "    </tr>\n",
       "    <tr>\n",
       "      <th>11</th>\n",
       "      <td>1</td>\n",
       "      <td>24</td>\n",
       "      <td>2008-04-02 15:25:41</td>\n",
       "      <td>2.035338</td>\n",
       "      <td>3.866087</td>\n",
       "      <td>-2.012571</td>\n",
       "      <td>25.903402</td>\n",
       "      <td>-1.9990</td>\n",
       "      <td>2.964</td>\n",
       "      <td>199.219</td>\n",
       "    </tr>\n",
       "    <tr>\n",
       "      <th>12</th>\n",
       "      <td>1</td>\n",
       "      <td>24</td>\n",
       "      <td>2008-04-02 15:25:41</td>\n",
       "      <td>2.035338</td>\n",
       "      <td>3.859562</td>\n",
       "      <td>-2.009890</td>\n",
       "      <td>26.065275</td>\n",
       "      <td>-1.9990</td>\n",
       "      <td>2.959</td>\n",
       "      <td>217.391</td>\n",
       "    </tr>\n",
       "    <tr>\n",
       "      <th>13</th>\n",
       "      <td>1</td>\n",
       "      <td>24</td>\n",
       "      <td>2008-04-02 15:25:41</td>\n",
       "      <td>2.035338</td>\n",
       "      <td>3.853445</td>\n",
       "      <td>-2.010512</td>\n",
       "      <td>26.218011</td>\n",
       "      <td>-1.9990</td>\n",
       "      <td>2.953</td>\n",
       "      <td>235.594</td>\n",
       "    </tr>\n",
       "    <tr>\n",
       "      <th>14</th>\n",
       "      <td>1</td>\n",
       "      <td>24</td>\n",
       "      <td>2008-04-02 15:25:41</td>\n",
       "      <td>2.035338</td>\n",
       "      <td>3.847748</td>\n",
       "      <td>-2.009675</td>\n",
       "      <td>26.368552</td>\n",
       "      <td>-1.9990</td>\n",
       "      <td>2.947</td>\n",
       "      <td>253.750</td>\n",
       "    </tr>\n",
       "    <tr>\n",
       "      <th>15</th>\n",
       "      <td>1</td>\n",
       "      <td>24</td>\n",
       "      <td>2008-04-02 15:25:41</td>\n",
       "      <td>2.035338</td>\n",
       "      <td>3.842070</td>\n",
       "      <td>-2.008841</td>\n",
       "      <td>26.541701</td>\n",
       "      <td>-1.9990</td>\n",
       "      <td>2.942</td>\n",
       "      <td>271.984</td>\n",
       "    </tr>\n",
       "    <tr>\n",
       "      <th>16</th>\n",
       "      <td>1</td>\n",
       "      <td>24</td>\n",
       "      <td>2008-04-02 15:25:41</td>\n",
       "      <td>2.035338</td>\n",
       "      <td>3.836915</td>\n",
       "      <td>-2.010977</td>\n",
       "      <td>26.691009</td>\n",
       "      <td>-1.9990</td>\n",
       "      <td>2.937</td>\n",
       "      <td>290.141</td>\n",
       "    </tr>\n",
       "    <tr>\n",
       "      <th>17</th>\n",
       "      <td>1</td>\n",
       "      <td>24</td>\n",
       "      <td>2008-04-02 15:25:41</td>\n",
       "      <td>2.035338</td>\n",
       "      <td>3.831430</td>\n",
       "      <td>-2.009843</td>\n",
       "      <td>26.856101</td>\n",
       "      <td>-1.9990</td>\n",
       "      <td>2.932</td>\n",
       "      <td>308.359</td>\n",
       "    </tr>\n",
       "    <tr>\n",
       "      <th>18</th>\n",
       "      <td>1</td>\n",
       "      <td>24</td>\n",
       "      <td>2008-04-02 15:25:41</td>\n",
       "      <td>2.035338</td>\n",
       "      <td>3.826466</td>\n",
       "      <td>-2.012514</td>\n",
       "      <td>27.008017</td>\n",
       "      <td>-1.9990</td>\n",
       "      <td>2.928</td>\n",
       "      <td>326.500</td>\n",
       "    </tr>\n",
       "    <tr>\n",
       "      <th>19</th>\n",
       "      <td>1</td>\n",
       "      <td>24</td>\n",
       "      <td>2008-04-02 15:25:41</td>\n",
       "      <td>2.035338</td>\n",
       "      <td>3.821684</td>\n",
       "      <td>-2.010837</td>\n",
       "      <td>27.163719</td>\n",
       "      <td>-1.9990</td>\n",
       "      <td>2.923</td>\n",
       "      <td>344.750</td>\n",
       "    </tr>\n",
       "  </tbody>\n",
       "</table>\n",
       "</div>"
      ],
      "text/plain": [
       "    cycle  ambient_temperature             datetime  capacity  \\\n",
       "0       1                   24  2008-04-02 15:25:41  2.035338   \n",
       "1       1                   24  2008-04-02 15:25:41  2.035338   \n",
       "2       1                   24  2008-04-02 15:25:41  2.035338   \n",
       "3       1                   24  2008-04-02 15:25:41  2.035338   \n",
       "4       1                   24  2008-04-02 15:25:41  2.035338   \n",
       "5       1                   24  2008-04-02 15:25:41  2.035338   \n",
       "6       1                   24  2008-04-02 15:25:41  2.035338   \n",
       "7       1                   24  2008-04-02 15:25:41  2.035338   \n",
       "8       1                   24  2008-04-02 15:25:41  2.035338   \n",
       "9       1                   24  2008-04-02 15:25:41  2.035338   \n",
       "10      1                   24  2008-04-02 15:25:41  2.035338   \n",
       "11      1                   24  2008-04-02 15:25:41  2.035338   \n",
       "12      1                   24  2008-04-02 15:25:41  2.035338   \n",
       "13      1                   24  2008-04-02 15:25:41  2.035338   \n",
       "14      1                   24  2008-04-02 15:25:41  2.035338   \n",
       "15      1                   24  2008-04-02 15:25:41  2.035338   \n",
       "16      1                   24  2008-04-02 15:25:41  2.035338   \n",
       "17      1                   24  2008-04-02 15:25:41  2.035338   \n",
       "18      1                   24  2008-04-02 15:25:41  2.035338   \n",
       "19      1                   24  2008-04-02 15:25:41  2.035338   \n",
       "\n",
       "    voltage_measured  current_measured  temperature_measured  current_load  \\\n",
       "0           4.179800         -0.002366             24.277568       -0.0006   \n",
       "1           4.179823          0.000434             24.277073       -0.0006   \n",
       "2           3.966528         -2.014242             24.366226       -1.9990   \n",
       "3           3.945886         -2.008730             24.515123       -1.9990   \n",
       "4           3.930354         -2.013381             24.676053       -1.9990   \n",
       "5           3.917440         -2.011192             24.853025       -1.9990   \n",
       "6           3.906451         -2.010007             25.018929       -1.9990   \n",
       "7           3.896511         -2.010279             25.204449       -1.9990   \n",
       "8           3.887994         -2.007998             25.380117       -1.9990   \n",
       "9           3.880200         -2.012029             25.554437       -1.9990   \n",
       "10          3.872695         -2.012366             25.732284       -1.9990   \n",
       "11          3.866087         -2.012571             25.903402       -1.9990   \n",
       "12          3.859562         -2.009890             26.065275       -1.9990   \n",
       "13          3.853445         -2.010512             26.218011       -1.9990   \n",
       "14          3.847748         -2.009675             26.368552       -1.9990   \n",
       "15          3.842070         -2.008841             26.541701       -1.9990   \n",
       "16          3.836915         -2.010977             26.691009       -1.9990   \n",
       "17          3.831430         -2.009843             26.856101       -1.9990   \n",
       "18          3.826466         -2.012514             27.008017       -1.9990   \n",
       "19          3.821684         -2.010837             27.163719       -1.9990   \n",
       "\n",
       "    voltage_load     time  \n",
       "0          0.000    0.000  \n",
       "1          4.195   16.781  \n",
       "2          3.070   35.703  \n",
       "3          3.045   53.781  \n",
       "4          3.026   71.922  \n",
       "5          3.011   90.094  \n",
       "6          3.002  108.281  \n",
       "7          2.993  126.453  \n",
       "8          2.985  144.641  \n",
       "9          2.977  162.844  \n",
       "10         2.972  181.016  \n",
       "11         2.964  199.219  \n",
       "12         2.959  217.391  \n",
       "13         2.953  235.594  \n",
       "14         2.947  253.750  \n",
       "15         2.942  271.984  \n",
       "16         2.937  290.141  \n",
       "17         2.932  308.359  \n",
       "18         2.928  326.500  \n",
       "19         2.923  344.750  "
      ]
     },
     "execution_count": 78,
     "metadata": {},
     "output_type": "execute_result"
    }
   ],
   "source": [
    "# Read data from CSV file\n",
    "data = pd.read_csv(r\"C:\\Users\\DELL\\Desktop\\B0006.csv\")\n",
    "data.head(20)\n"
   ]
  },
  {
   "cell_type": "code",
   "execution_count": 80,
   "id": "db295deb",
   "metadata": {},
   "outputs": [
    {
     "name": "stdout",
     "output_type": "stream",
     "text": [
      "[2.03533759 2.03533759 2.03533759 ... 1.18567523 1.18567523 1.18567523]\n"
     ]
    }
   ],
   "source": [
    "# Extract input features (voltage_measured', 'current_measured', 'temperature_measured','voltage_load) and SOC values\n",
    "X = data[['voltage_measured', 'current_measured', 'temperature_measured','voltage_load']].values\n",
    "soc = data['capacity'].values\n",
    "print(soc)\n"
   ]
  },
  {
   "cell_type": "code",
   "execution_count": 81,
   "id": "4aa15c5f",
   "metadata": {},
   "outputs": [
    {
     "name": "stdout",
     "output_type": "stream",
     "text": [
      "[1.31011868 1.83925089 1.47321484 1.3052162  1.25343543 1.73378874\n",
      " 1.86756972 1.15381833 1.31011868 1.72920703 1.38383795 1.78100463\n",
      " 1.5093915  1.78100463 1.4413804  1.46276044 1.77101304 1.7394925\n",
      " 1.37860599 1.77101304 1.35809661 1.20561598 1.39453438 1.58762731\n",
      " 1.37376003 1.60352449 1.96816618 1.17967068 1.32090257 1.76047124\n",
      " 1.56134461 1.37376003 1.86756972 1.75029138 1.34743288 1.17967068\n",
      " 1.2480875  1.74474098 1.81347701 1.53015703 1.17497488 1.96878983\n",
      " 1.26376394 1.85602441 1.85602441 1.47321484 1.56134461 1.3951643\n",
      " 1.43155763 1.25343543 1.21110268]\n"
     ]
    }
   ],
   "source": [
    "# Split the data into training and testing sets\n",
    "X_train, X_test, y_train, y_test = train_test_split(X, soc, test_size=0.001, random_state=42)\n",
    "print(y_test)"
   ]
  },
  {
   "cell_type": "code",
   "execution_count": 82,
   "id": "2cc1f6b9",
   "metadata": {},
   "outputs": [
    {
     "data": {
      "text/plain": [
       "51"
      ]
     },
     "execution_count": 82,
     "metadata": {},
     "output_type": "execute_result"
    }
   ],
   "source": [
    "len(y_test)"
   ]
  },
  {
   "cell_type": "code",
   "execution_count": 85,
   "id": "a7616c20",
   "metadata": {},
   "outputs": [
    {
     "data": {
      "text/html": [
       "<style>#sk-container-id-5 {color: black;}#sk-container-id-5 pre{padding: 0;}#sk-container-id-5 div.sk-toggleable {background-color: white;}#sk-container-id-5 label.sk-toggleable__label {cursor: pointer;display: block;width: 100%;margin-bottom: 0;padding: 0.3em;box-sizing: border-box;text-align: center;}#sk-container-id-5 label.sk-toggleable__label-arrow:before {content: \"▸\";float: left;margin-right: 0.25em;color: #696969;}#sk-container-id-5 label.sk-toggleable__label-arrow:hover:before {color: black;}#sk-container-id-5 div.sk-estimator:hover label.sk-toggleable__label-arrow:before {color: black;}#sk-container-id-5 div.sk-toggleable__content {max-height: 0;max-width: 0;overflow: hidden;text-align: left;background-color: #f0f8ff;}#sk-container-id-5 div.sk-toggleable__content pre {margin: 0.2em;color: black;border-radius: 0.25em;background-color: #f0f8ff;}#sk-container-id-5 input.sk-toggleable__control:checked~div.sk-toggleable__content {max-height: 200px;max-width: 100%;overflow: auto;}#sk-container-id-5 input.sk-toggleable__control:checked~label.sk-toggleable__label-arrow:before {content: \"▾\";}#sk-container-id-5 div.sk-estimator input.sk-toggleable__control:checked~label.sk-toggleable__label {background-color: #d4ebff;}#sk-container-id-5 div.sk-label input.sk-toggleable__control:checked~label.sk-toggleable__label {background-color: #d4ebff;}#sk-container-id-5 input.sk-hidden--visually {border: 0;clip: rect(1px 1px 1px 1px);clip: rect(1px, 1px, 1px, 1px);height: 1px;margin: -1px;overflow: hidden;padding: 0;position: absolute;width: 1px;}#sk-container-id-5 div.sk-estimator {font-family: monospace;background-color: #f0f8ff;border: 1px dotted black;border-radius: 0.25em;box-sizing: border-box;margin-bottom: 0.5em;}#sk-container-id-5 div.sk-estimator:hover {background-color: #d4ebff;}#sk-container-id-5 div.sk-parallel-item::after {content: \"\";width: 100%;border-bottom: 1px solid gray;flex-grow: 1;}#sk-container-id-5 div.sk-label:hover label.sk-toggleable__label {background-color: #d4ebff;}#sk-container-id-5 div.sk-serial::before {content: \"\";position: absolute;border-left: 1px solid gray;box-sizing: border-box;top: 0;bottom: 0;left: 50%;z-index: 0;}#sk-container-id-5 div.sk-serial {display: flex;flex-direction: column;align-items: center;background-color: white;padding-right: 0.2em;padding-left: 0.2em;position: relative;}#sk-container-id-5 div.sk-item {position: relative;z-index: 1;}#sk-container-id-5 div.sk-parallel {display: flex;align-items: stretch;justify-content: center;background-color: white;position: relative;}#sk-container-id-5 div.sk-item::before, #sk-container-id-5 div.sk-parallel-item::before {content: \"\";position: absolute;border-left: 1px solid gray;box-sizing: border-box;top: 0;bottom: 0;left: 50%;z-index: -1;}#sk-container-id-5 div.sk-parallel-item {display: flex;flex-direction: column;z-index: 1;position: relative;background-color: white;}#sk-container-id-5 div.sk-parallel-item:first-child::after {align-self: flex-end;width: 50%;}#sk-container-id-5 div.sk-parallel-item:last-child::after {align-self: flex-start;width: 50%;}#sk-container-id-5 div.sk-parallel-item:only-child::after {width: 0;}#sk-container-id-5 div.sk-dashed-wrapped {border: 1px dashed gray;margin: 0 0.4em 0.5em 0.4em;box-sizing: border-box;padding-bottom: 0.4em;background-color: white;}#sk-container-id-5 div.sk-label label {font-family: monospace;font-weight: bold;display: inline-block;line-height: 1.2em;}#sk-container-id-5 div.sk-label-container {text-align: center;}#sk-container-id-5 div.sk-container {/* jupyter's `normalize.less` sets `[hidden] { display: none; }` but bootstrap.min.css set `[hidden] { display: none !important; }` so we also need the `!important` here to be able to override the default hidden behavior on the sphinx rendered scikit-learn.org. See: https://github.com/scikit-learn/scikit-learn/issues/21755 */display: inline-block !important;position: relative;}#sk-container-id-5 div.sk-text-repr-fallback {display: none;}</style><div id=\"sk-container-id-5\" class=\"sk-top-container\"><div class=\"sk-text-repr-fallback\"><pre>RandomForestRegressor(random_state=42)</pre><b>In a Jupyter environment, please rerun this cell to show the HTML representation or trust the notebook. <br />On GitHub, the HTML representation is unable to render, please try loading this page with nbviewer.org.</b></div><div class=\"sk-container\" hidden><div class=\"sk-item\"><div class=\"sk-estimator sk-toggleable\"><input class=\"sk-toggleable__control sk-hidden--visually\" id=\"sk-estimator-id-5\" type=\"checkbox\" checked><label for=\"sk-estimator-id-5\" class=\"sk-toggleable__label sk-toggleable__label-arrow\">RandomForestRegressor</label><div class=\"sk-toggleable__content\"><pre>RandomForestRegressor(random_state=42)</pre></div></div></div></div></div>"
      ],
      "text/plain": [
       "RandomForestRegressor(random_state=42)"
      ]
     },
     "execution_count": 85,
     "metadata": {},
     "output_type": "execute_result"
    }
   ],
   "source": [
    "# Train a Random Forest regressor\n",
    "random_forest_model = RandomForestRegressor(n_estimators=100, random_state=42)\n",
    "random_forest_model.fit(X_train, y_train)\n"
   ]
  },
  {
   "cell_type": "code",
   "execution_count": 86,
   "id": "5830783d",
   "metadata": {},
   "outputs": [
    {
     "name": "stdout",
     "output_type": "stream",
     "text": [
      "[1.28665128 1.67130282 1.42315742 1.33690527 1.26244984 1.7554296\n",
      " 1.89178052 1.28842311 1.26923029 1.67797399 1.38734958 1.67233891\n",
      " 1.52809986 1.63610769 1.43468163 1.46512818 1.78223296 1.78578841\n",
      " 1.37508636 1.65201562 1.37586581 1.20584212 1.43482165 1.42235245\n",
      " 1.40791297 1.62409284 1.96842989 1.24376348 1.37618169 1.60126392\n",
      " 1.41237282 1.43975529 1.89279501 1.72621603 1.49952129 1.21987659\n",
      " 1.20979117 1.81393755 1.55623596 1.47731095 1.24606394 1.98201131\n",
      " 1.26966441 1.84886953 1.82761663 1.44068738 1.5222785  1.37957659\n",
      " 1.40482316 1.19094196 1.21073816]\n"
     ]
    }
   ],
   "source": [
    " #Make predictions on the testing set\n",
    "soc_predictions = random_forest_model.predict(X_test)\n",
    "print(soc_predictions)"
   ]
  },
  {
   "cell_type": "code",
   "execution_count": 87,
   "id": "a063d969",
   "metadata": {},
   "outputs": [],
   "source": [
    "from sklearn.metrics import mean_squared_error\n"
   ]
  },
  {
   "cell_type": "code",
   "execution_count": 88,
   "id": "a29acb38",
   "metadata": {},
   "outputs": [
    {
     "name": "stdout",
     "output_type": "stream",
     "text": [
      "Mean Squared Error: 0.006081014941874113\n"
     ]
    }
   ],
   "source": [
    "\n",
    "\n",
    "# Assuming y_test and soc_predictions are your actual test labels and predictions\n",
    "# Calculate Mean Squared Error\n",
    "mse = mean_squared_error(y_test, soc_predictions)\n",
    "print(\"Mean Squared Error:\", mse)"
   ]
  },
  {
   "cell_type": "code",
   "execution_count": 89,
   "id": "eed94101",
   "metadata": {},
   "outputs": [
    {
     "name": "stdout",
     "output_type": "stream",
     "text": [
      "Mean Squared Error: 0.006081014941874113\n",
      "R-squared: 0.8951885829374088\n"
     ]
    }
   ],
   "source": [
    "\n",
    "# Model evaluation\n",
    "mse = mean_squared_error(y_test, soc_predictions)\n",
    "r2 = r2_score(y_test, soc_predictions)\n",
    "print(\"Mean Squared Error:\", mse)\n",
    "print(\"R-squared:\", r2)\n",
    "\n"
   ]
  },
  {
   "cell_type": "code",
   "execution_count": 90,
   "id": "70e5df36",
   "metadata": {},
   "outputs": [
    {
     "data": {
      "image/png": "[encoded data removed]",
      "text/plain": [
       "<Figure size 640x480 with 1 Axes>"
      ]
     },
     "metadata": {},
     "output_type": "display_data"
    }
   ],
   "source": [
    "\n",
    "# Plot the true SOC values vs. predicted SOC values\n",
    "plt.scatter(y_test, soc_predictions)\n",
    "plt.plot([min(y_test), max(y_test)], [min(y_test), max(y_test)], '--', color='red')  # Diagonal line\n",
    "plt.xlabel('True SOC')\n",
    "plt.ylabel('Predicted SOC')\n",
    "plt.title('True SOC vs. Predicted SOC (Random Forest)')\n",
    "plt.grid(True)\n",
    "plt.show()"
   ]
  },
  {
   "cell_type": "code",
   "execution_count": 91,
   "id": "65156ce1",
   "metadata": {},
   "outputs": [
    {
     "name": "stdout",
     "output_type": "stream",
     "text": [
      "    Actual state of charging  Predicted state of charging \n",
      "0                   1.310119                      1.286651\n",
      "1                   1.839251                      1.671303\n",
      "2                   1.473215                      1.423157\n",
      "3                   1.305216                      1.336905\n",
      "4                   1.253435                      1.262450\n",
      "5                   1.733789                      1.755430\n",
      "6                   1.867570                      1.891781\n",
      "7                   1.153818                      1.288423\n",
      "8                   1.310119                      1.269230\n",
      "9                   1.729207                      1.677974\n",
      "10                  1.383838                      1.387350\n",
      "11                  1.781005                      1.672339\n",
      "12                  1.509392                      1.528100\n",
      "13                  1.781005                      1.636108\n",
      "14                  1.441380                      1.434682\n",
      "15                  1.462760                      1.465128\n",
      "16                  1.771013                      1.782233\n",
      "17                  1.739493                      1.785788\n",
      "18                  1.378606                      1.375086\n",
      "19                  1.771013                      1.652016\n",
      "20                  1.358097                      1.375866\n",
      "21                  1.205616                      1.205842\n",
      "22                  1.394534                      1.434822\n",
      "23                  1.587627                      1.422352\n",
      "24                  1.373760                      1.407913\n",
      "25                  1.603524                      1.624093\n",
      "26                  1.968166                      1.968430\n",
      "27                  1.179671                      1.243763\n",
      "28                  1.320903                      1.376182\n",
      "29                  1.760471                      1.601264\n",
      "30                  1.561345                      1.412373\n",
      "31                  1.373760                      1.439755\n",
      "32                  1.867570                      1.892795\n",
      "33                  1.750291                      1.726216\n",
      "34                  1.347433                      1.499521\n",
      "35                  1.179671                      1.219877\n",
      "36                  1.248087                      1.209791\n",
      "37                  1.744741                      1.813938\n",
      "38                  1.813477                      1.556236\n",
      "39                  1.530157                      1.477311\n",
      "40                  1.174975                      1.246064\n",
      "41                  1.968790                      1.982011\n",
      "42                  1.263764                      1.269664\n",
      "43                  1.856024                      1.848870\n",
      "44                  1.856024                      1.827617\n",
      "45                  1.473215                      1.440687\n",
      "46                  1.561345                      1.522279\n",
      "47                  1.395164                      1.379577\n",
      "48                  1.431558                      1.404823\n",
      "49                  1.253435                      1.190942\n",
      "50                  1.211103                      1.210738\n"
     ]
    }
   ],
   "source": [
    "predictions_df = pd.DataFrame({\n",
    "    'Actual state of charging': (y_test),# current load other name state of health\n",
    "\n",
    "    'Predicted state of charging ': (soc_predictions)\n",
    "})\n",
    "\n",
    "# Display the DataFrame\n",
    "print(predictions_df)"
   ]
  },
  {
   "cell_type": "code",
   "execution_count": 59,
   "id": "868022ec",
   "metadata": {},
   "outputs": [],
   "source": [
    "from sklearn.metrics import confusion_matrix"
   ]
  },
  {
   "cell_type": "code",
   "execution_count": 92,
   "id": "8e873b42",
   "metadata": {},
   "outputs": [],
   "source": [
    "from sklearn.metrics import confusion_matrix\n"
   ]
  },
  {
   "cell_type": "code",
   "execution_count": 93,
   "id": "d73bd0a5",
   "metadata": {},
   "outputs": [
    {
     "name": "stdout",
     "output_type": "stream",
     "text": [
      "[1.31011868 1.83925089 1.47321484 1.3052162  1.25343543 1.73378874\n",
      " 1.86756972 1.15381833 1.31011868 1.72920703 1.38383795 1.78100463\n",
      " 1.5093915  1.78100463 1.4413804  1.46276044 1.77101304 1.7394925\n",
      " 1.37860599 1.77101304 1.35809661 1.20561598 1.39453438 1.58762731\n",
      " 1.37376003 1.60352449 1.96816618 1.17967068 1.32090257 1.76047124\n",
      " 1.56134461 1.37376003 1.86756972 1.75029138 1.34743288 1.17967068\n",
      " 1.2480875  1.74474098 1.81347701 1.53015703 1.17497488 1.96878983\n",
      " 1.26376394 1.85602441 1.85602441 1.47321484 1.56134461 1.3951643\n",
      " 1.43155763 1.25343543 1.21110268]\n"
     ]
    }
   ],
   "source": [
    "print(y_test)"
   ]
  },
  {
   "cell_type": "code",
   "execution_count": 94,
   "id": "2ba6cb8a",
   "metadata": {},
   "outputs": [
    {
     "name": "stdout",
     "output_type": "stream",
     "text": [
      "[1.28665128 1.67130282 1.42315742 1.33690527 1.26244984 1.7554296\n",
      " 1.89178052 1.28842311 1.26923029 1.67797399 1.38734958 1.67233891\n",
      " 1.52809986 1.63610769 1.43468163 1.46512818 1.78223296 1.78578841\n",
      " 1.37508636 1.65201562 1.37586581 1.20584212 1.43482165 1.42235245\n",
      " 1.40791297 1.62409284 1.96842989 1.24376348 1.37618169 1.60126392\n",
      " 1.41237282 1.43975529 1.89279501 1.72621603 1.49952129 1.21987659\n",
      " 1.20979117 1.81393755 1.55623596 1.47731095 1.24606394 1.98201131\n",
      " 1.26966441 1.84886953 1.82761663 1.44068738 1.5222785  1.37957659\n",
      " 1.40482316 1.19094196 1.21073816]\n"
     ]
    }
   ],
   "source": [
    "print(soc_predictions)"
   ]
  },
  {
   "cell_type": "code",
   "execution_count": 95,
   "id": "ca7715ea",
   "metadata": {},
   "outputs": [],
   "source": [
    " #Convert predictions and true labels to binary format\n",
    "# For example, let's assume we're interested in binary classification where 1 is positive and 0 is negative\n",
    "threshold = 0.5  # You can adjust this threshold based on your problem\n",
    "y_pred_binary = [1 if pred >= threshold else 0 for pred in soc_predictions]\n",
    "y_true_binary = [1 if true >= threshold else 0 for true in y_test]\n"
   ]
  },
  {
   "cell_type": "code",
   "execution_count": 96,
   "id": "e4f76849",
   "metadata": {},
   "outputs": [
    {
     "name": "stdout",
     "output_type": "stream",
     "text": [
      "[1, 1, 1, 1, 1, 1, 1, 1, 1, 1, 1, 1, 1, 1, 1, 1, 1, 1, 1, 1, 1, 1, 1, 1, 1, 1, 1, 1, 1, 1, 1, 1, 1, 1, 1, 1, 1, 1, 1, 1, 1, 1, 1, 1, 1, 1, 1, 1, 1, 1, 1]\n"
     ]
    }
   ],
   "source": [
    "print(y_true_binary)"
   ]
  },
  {
   "cell_type": "code",
   "execution_count": 97,
   "id": "d0167bbd",
   "metadata": {},
   "outputs": [
    {
     "name": "stdout",
     "output_type": "stream",
     "text": [
      "[1, 1, 1, 1, 1, 1, 1, 1, 1, 1, 1, 1, 1, 1, 1, 1, 1, 1, 1, 1, 1, 1, 1, 1, 1, 1, 1, 1, 1, 1, 1, 1, 1, 1, 1, 1, 1, 1, 1, 1, 1, 1, 1, 1, 1, 1, 1, 1, 1, 1, 1]\n"
     ]
    }
   ],
   "source": [
    "print(y_pred_binary)"
   ]
  },
  {
   "cell_type": "code",
   "execution_count": 98,
   "id": "26da15e1",
   "metadata": {},
   "outputs": [
    {
     "name": "stdout",
     "output_type": "stream",
     "text": [
      "Confusion Matrix:\n",
      "[[51]]\n"
     ]
    }
   ],
   "source": [
    "conf_matrix = confusion_matrix(y_true_binary,y_pred_binary )\n",
    "\n",
    "print(\"Confusion Matrix:\")\n",
    "print(conf_matrix)"
   ]
  },
  {
   "cell_type": "code",
   "execution_count": 99,
   "id": "8249ef19",
   "metadata": {},
   "outputs": [],
   "source": [
    "from sklearn.metrics import f1_score"
   ]
  },
  {
   "cell_type": "code",
   "execution_count": 100,
   "id": "c2f8bce9",
   "metadata": {},
   "outputs": [
    {
     "name": "stdout",
     "output_type": "stream",
     "text": [
      "F1 Score: 1.0\n"
     ]
    }
   ],
   "source": [
    "# Calculate F1 score\n",
    "f1 = f1_score(y_true_binary, y_pred_binary, average='weighted')\n",
    "print(\"F1 Score:\", f1)\n"
   ]
  },
  {
   "cell_type": "code",
   "execution_count": 108,
   "id": "bd1a6b6d",
   "metadata": {},
   "outputs": [
    {
     "data": {
      "image/png": "[encoded data removed]",
      "text/plain": [
       "<Figure size 800x600 with 1 Axes>"
      ]
     },
     "metadata": {},
     "output_type": "display_data"
    }
   ],
   "source": [
    "# Plot F1 score\n",
    "plt.figure(figsize=(8, 6))\n",
    "plt.bar([\"Random Forest\"], [f1], color='skyblue')\n",
    "plt.title(\"F1 Score Comparison\")\n",
    "plt.xlabel(\"Algorithm\")\n",
    "plt.ylabel(\"F1 Score\")\n",
    "plt.ylim(0, 1)\n",
    "plt.show()"
   ]
  },
  {
   "cell_type": "code",
   "execution_count": 101,
   "id": "300f86f6",
   "metadata": {},
   "outputs": [
    {
     "name": "stdout",
     "output_type": "stream",
     "text": [
      "Length of y_test: 51\n",
      "Length of soc_predictions: 51\n"
     ]
    }
   ],
   "source": [
    "# Ensure that soc_predictions contain valid class labels and is of the same length as y_test\n",
    "print(\"Length of y_test:\", len(y_test))\n",
    "print(\"Length of soc_predictions:\", len(soc_predictions))"
   ]
  },
  {
   "cell_type": "code",
   "execution_count": 102,
   "id": "5142d9ad",
   "metadata": {},
   "outputs": [
    {
     "name": "stdout",
     "output_type": "stream",
     "text": [
      "Unique values in soc_predictions: {1.2866512784140582, 1.2624498422784283, 1.336905270969754, 1.6713028189245513, 1.4231574189781853, 1.7554296040439694, 1.891780516389814, 1.2884231087259943, 1.269230290581017, 1.6779739926134933, 1.7857884133474844, 1.4397552883687297, 1.2097911742998662, 1.6520156184276333, 1.2058421186518802, 1.7262160268457125, 1.3873495768156539, 1.434681628243443, 1.375086361481284, 1.5562359609804202, 1.522278500331359, 1.4048231555597792, 1.2107381574496086, 1.7822329576121507, 1.6240928360283824, 1.3761816912141274, 1.982011311560531, 1.5280998641546892, 1.8927950137453555, 1.2198765944321837, 1.813937548115086, 1.47731094809608, 1.2460639430336071, 1.379576592555595, 1.1909419590774215, 1.6361076904669585, 1.4223524543777881, 1.2437634828763298, 1.4995212865926828, 1.672338914853737, 1.4348216538238403, 1.4079129693529864, 1.269664414877647, 1.8488695252235323, 1.8276166311670923, 1.4651281830501472, 1.3758658138957782, 1.9684298934467959, 1.6012639183820079, 1.4123728185636926, 1.4406873827389821}\n"
     ]
    }
   ],
   "source": [
    "# Print unique values in soc_predictions\n",
    "print(\"Unique values in soc_predictions:\", set(soc_predictions))\n"
   ]
  },
  {
   "cell_type": "code",
   "execution_count": 103,
   "id": "3e2ab35d",
   "metadata": {},
   "outputs": [
    {
     "name": "stdout",
     "output_type": "stream",
     "text": [
      "Unique values in y_test: {1.2534354284944844, 1.3101186784831065, 1.473214844899973, 1.30521620229393, 1.839250891718188, 1.7337887419624838, 1.8675697161520208, 1.15381833159625, 1.729207034132373, 1.3838379472327809, 1.35809661401726, 1.9681661764334244, 1.1796706818144624, 1.3474328767273906, 1.1749748834769171, 1.509391504602082, 1.7810046294120476, 1.441380399427779, 1.3209025697502388, 1.96878982627284, 1.4627604396099307, 1.3786059891863676, 1.5876273123575604, 1.3737600299108574, 1.5613446139713882, 1.263763942644078, 1.211102678915174, 1.3945343832614077, 1.7604712448170945, 1.431557632772571, 1.2056159765131735, 1.2480874960313575, 1.7447409841836798, 1.7710130422682329, 1.8134770059567056, 1.8560244070083, 1.7394925037732578, 1.6035244898969248, 1.7502913788006589, 1.5301570318067428, 1.395164296571563}\n"
     ]
    }
   ],
   "source": [
    "# Print unique values in y_test\n",
    "print(\"Unique values in y_test:\", set(y_test))\n"
   ]
  },
  {
   "cell_type": "code",
   "execution_count": 19,
   "id": "3bea40d8",
   "metadata": {},
   "outputs": [],
   "source": [
    "from sklearn.metrics import f1_score\n",
    "\n"
   ]
  },
  {
   "cell_type": "code",
   "execution_count": null,
   "id": "3792c44f",
   "metadata": {},
   "outputs": [],
   "source": []
  },
  {
   "cell_type": "code",
   "execution_count": null,
   "id": "4ee9d5d9",
   "metadata": {},
   "outputs": [],
   "source": []
  },
  {
   "cell_type": "code",
   "execution_count": 104,
   "id": "d4c1e995",
   "metadata": {},
   "outputs": [
    {
     "name": "stdout",
     "output_type": "stream",
     "text": [
      "\n",
      "Confusion Matrix:\n",
      " [[51]]\n"
     ]
    }
   ],
   "source": [
    "# Generate confusion matrix only if lengths match\n",
    "if len(y_true_binary) == len(y_pred_binary):\n",
    "    conf_matrix = confusion_matrix(y_true_binary, y_pred_binary)\n",
    "    print(\"\\nConfusion Matrix:\\n\", conf_matrix)\n",
    "else:\n",
    "    print(\"Lengths of y_test and soc_predictions do not match. Please check your data.\")"
   ]
  },
  {
   "cell_type": "code",
   "execution_count": 105,
   "id": "59ff9447",
   "metadata": {},
   "outputs": [],
   "source": [
    "import seaborn as sns"
   ]
  },
  {
   "cell_type": "code",
   "execution_count": 107,
   "id": "bc642044",
   "metadata": {},
   "outputs": [
    {
     "data": {
      "image/png": "[encoded data removed]",
      "text/plain": [
       "<Figure size 800x600 with 1 Axes>"
      ]
     },
     "metadata": {},
     "output_type": "display_data"
    }
   ],
   "source": [
    "\n",
    "# Plot confusion matrix\n",
    "plt.figure(figsize=(8, 6))\n",
    "sns.heatmap(conf_matrix, annot=True, fmt=\"d\", cmap=\"Reds\", cbar=False)\n",
    "plt.title(\"Confusion Matrix\")\n",
    "plt.xlabel(\"y_pred_binary\")\n",
    "plt.ylabel(\"y_true_binar\")\n",
    "plt.show()"
   ]
  },
  {
   "cell_type": "code",
   "execution_count": null,
   "id": "0f46b7d1",
   "metadata": {},
   "outputs": [],
   "source": []
  },
  {
   "cell_type": "code",
   "execution_count": null,
   "id": "1fe848d5",
   "metadata": {},
   "outputs": [],
   "source": []
  }
 ],
 "metadata": {
  "kernelspec": {
   "display_name": "Python 3 (ipykernel)",
   "language": "python",
   "name": "python3"
  },
  "language_info": {
   "codemirror_mode": {
    "name": "ipython",
    "version": 3
   },
   "file_extension": ".py",
   "mimetype": "text/x-python",
   "name": "python",
   "nbconvert_exporter": "python",
   "pygments_lexer": "ipython3",
   "version": "3.10.13"
  }
 },
 "nbformat": 4,
 "nbformat_minor": 5
}
